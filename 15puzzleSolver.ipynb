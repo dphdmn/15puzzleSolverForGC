{
  "nbformat": 4,
  "nbformat_minor": 0,
  "metadata": {
    "colab": {
      "provenance": [],
      "collapsed_sections": []
    },
    "kernelspec": {
      "name": "python3",
      "display_name": "Python 3"
    },
    "language_info": {
      "name": "python"
    }
  },
  "cells": [
    {
      "cell_type": "code",
      "source": [
        "#@title Initialization { vertical-output: true, display-mode: \"form\" }\n",
        "import subprocess, os\n",
        "os.chdir(\"/content\")\n",
        "os.system(\"rm -r 15puzzleSolverForGC\")\n",
        "os.system(\"git clone https://github.com/dphdmn/15puzzleSolverForGC\")\n",
        "os.chdir(\"15puzzleSolverForGC\")\n",
        "os.system(\"chmod +x solver3\")\n",
        "os.system(\"chmod +x solver4\")\n",
        "os.system(\"chmod +x run.sh\")"
      ],
      "metadata": {
        "id": "9VpIwZ4b5A8L",
        "colab": {
          "base_uri": "https://localhost:8080/"
        },
        "outputId": "7c4b424d-dd84-44d2-ca68-01a348f6b43c"
      },
      "execution_count": null,
      "outputs": [
        {
          "output_type": "execute_result",
          "data": {
            "text/plain": [
              "0"
            ]
          },
          "metadata": {},
          "execution_count": 111
        }
      ]
    },
    {
      "cell_type": "code",
      "source": [
        "#@title Input\n",
        "#Paste your scrambles here, don't add random line breaks, follow the example\n",
        "scrambles = \"\"\"\n",
        "1 2 12 9/7 3 4 13/0 14 8 15/6 5 11 10\n",
        "9 1 12 10/4 7 6 8/13 2 5 3/0 14 11 15\n",
        "9 3 8 7/2 1 6 15/5 0 10 13/12 11 4 14\n",
        "\"\"\""
      ],
      "metadata": {
        "id": "TwPiJwnb4mOD"
      },
      "execution_count": null,
      "outputs": []
    },
    {
      "cell_type": "code",
      "source": [
        "#@title Solve! { vertical-output: true, display-mode: \"form\" }\n",
        "with open(\"scrambles\", 'w') as f:\n",
        "  f.write(scrambles[1:])\n",
        "subprocess.call(\"./run.sh\", shell=True)\n",
        "with open(\"solutions\", \"r\") as f:\n",
        "  d = f.readlines()\n",
        "  for i in d:\n",
        "    if i != \"done\\n\" and i != \"\\n\":\n",
        "      print(i.replace(\"\\n\",\"\"))"
      ],
      "metadata": {
        "id": "SVzXZm6B0WFm",
        "colab": {
          "base_uri": "https://localhost:8080/"
        },
        "outputId": "bca094f9-7911-4980-becc-219205a03988"
      },
      "execution_count": null,
      "outputs": [
        {
          "output_type": "stream",
          "name": "stdout",
          "text": [
            "ULLLDDRDLURULDRRULURDDRDLLURDRUUULDDRULLUL\n",
            "DLLDLDRURRDLUURDLULLDDRRULULDDRURULUL\n",
            "LLDDRRURDLURULLURRDLDLUURRDLLULDRRDDLULDRRUUULL\n"
          ]
        }
      ]
    }
  ]
}